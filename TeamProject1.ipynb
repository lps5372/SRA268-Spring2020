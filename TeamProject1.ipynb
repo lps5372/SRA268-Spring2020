{
  "nbformat": 4,
  "nbformat_minor": 0,
  "metadata": {
    "colab": {
      "name": "Copy of TeamProject1.ipynb",
      "provenance": [],
      "collapsed_sections": [],
      "include_colab_link": true
    },
    "kernelspec": {
      "name": "python3",
      "display_name": "Python 3"
    }
  },
  "cells": [
    {
      "cell_type": "markdown",
      "metadata": {
        "id": "view-in-github",
        "colab_type": "text"
      },
      "source": [
        "<a href=\"https://colab.research.google.com/github/lps5372/SRA268-Spring2020/blob/master/TeamProject1.ipynb\" target=\"_parent\"><img src=\"https://colab.research.google.com/assets/colab-badge.svg\" alt=\"Open In Colab\"/></a>"
      ]
    },
    {
      "cell_type": "markdown",
      "metadata": {
        "id": "Z6LQsJBU1vHd",
        "colab_type": "text"
      },
      "source": [
        "## Title: Average Snowfall per Year 2000-2020"
      ]
    },
    {
      "cell_type": "markdown",
      "metadata": {
        "id": "kW6Cbvo82Sys",
        "colab_type": "text"
      },
      "source": [
        "#### Creators\n",
        "\n",
        "\n",
        "*   Andres Nunez\n",
        "*   Owen Ache\n",
        "*   Luke Sinn\n",
        "*   Chris Reeves\n"
      ]
    },
    {
      "cell_type": "markdown",
      "metadata": {
        "id": "TPAiz54nZFVP",
        "colab_type": "text"
      },
      "source": [
        "#Original Lab Assignment"
      ]
    },
    {
      "cell_type": "markdown",
      "metadata": {
        "id": "3Xny9mL615LM",
        "colab_type": "text"
      },
      "source": [
        "#Introduction\n",
        "\n",
        "This graph was created to measure the amount of snowfall that fell over a 3 year span in State College Pennsylvania. I have excluded april through november, including both, from this graph due to snowfall being a lot less likely in those months and to avoid any potentional outlier in my graph. The X-axis is showing the month the date and the year, while the Y-axis is representing the amount of snowfall in inches.\n"
      ]
    },
    {
      "cell_type": "markdown",
      "metadata": {
        "id": "cQSlrfVW19HW",
        "colab_type": "text"
      },
      "source": [
        "![alt text](https://raw.githubusercontent.com/csr5264/SRA268-Spring2020/master/Screen%20Shot%202020-01-23%20at%207.15.53%20PM.png)"
      ]
    },
    {
      "cell_type": "markdown",
      "metadata": {
        "id": "NEQgzUl32GVZ",
        "colab_type": "text"
      },
      "source": [
        "#Conclusions\n",
        "\n",
        "Currently I am enrolled here in a course at Penn State that talks about global warming and its effects on the earth. Before I made the graph i thought that maybe I would see an increase in the wheather pattenr over the 3 year span. However, this was not the case. I noticed that there was more snowfall in 2018 and 2019 than 2017, however the snowfall was less extreme in 2018 while it was more extreme in 2019."
      ]
    },
    {
      "cell_type": "markdown",
      "metadata": {
        "id": "ROM_QFLo2KyH",
        "colab_type": "text"
      },
      "source": [
        "### Team Project 1"
      ]
    },
    {
      "cell_type": "markdown",
      "metadata": {
        "id": "Q5t3T7W-Hki8",
        "colab_type": "text"
      },
      "source": [
        "For Team Project 1, we started by looking at each team members “First Google Notebook” which had detailed State College’s temperature and weather from 2000-2020. After evaluating each other’s topics we decided that we wanted to expand Chris’s subject of the amount of snowfall that fell over from 2017-2019, in State College. To elaborate more on snowfall, we choose to analyze the average snowfall per year starting in January of the year 2000 and concluding in December 2019 . Our group wanted to see if the average snowfall had changed over 20 years. We believed that Global warming could have potentially had a dramatic impact on the average snowfall in State College over time."
      ]
    },
    {
      "cell_type": "markdown",
      "metadata": {
        "id": "YBMMWB2oHrRB",
        "colab_type": "text"
      },
      "source": [
        "#### The Good"
      ]
    },
    {
      "cell_type": "markdown",
      "metadata": {
        "id": "ITlYgwM6Ht8K",
        "colab_type": "text"
      },
      "source": [
        "For our good visualization our group decided it was best to show our data by using a bar graph. Bar graphs make it easy to see the difference in the data and it would help show any possible trends which is what our main goal was. In the bar chart we decided to add a color variation so that way we could categorize the amounts into different ranges. Adding the color variation assists our visual interpretation of the bar sizes. Our choice of color was a basic one and we decided using a simple one like a blue scale would be easiest to interpret."
      ]
    },
    {
      "cell_type": "code",
      "metadata": {
        "id": "_0eP3qoh2QD0",
        "colab_type": "code",
        "outputId": "a33d8626-a9af-40d6-8e77-195f322694a7",
        "colab": {
          "base_uri": "https://localhost:8080/",
          "height": 1000
        }
      },
      "source": [
        "import IPython\n",
        "IPython.display.HTML(\"<div class='tableauPlaceholder' id='viz1580915477289' style='position: relative'><noscript><a href=''><img alt=' ' src='https:&#47;&#47;public.tableau.com&#47;static&#47;images&#47;Th&#47;TheGood_15809130971820&#47;Sheet1&#47;1_rss.png' style='border: none' /></a></noscript><object class='tableauViz'  style='display:none;'><param name='host_url' value='https%3A%2F%2Fpublic.tableau.com%2F' /> <param name='embed_code_version' value='3' /> <param name='site_root' value='' /><param name='name' value='TheGood_15809130971820&#47;Sheet1' /><param name='tabs' value='no' /><param name='toolbar' value='yes' /><param name='static_image' value='https:&#47;&#47;public.tableau.com&#47;static&#47;images&#47;Th&#47;TheGood_15809130971820&#47;Sheet1&#47;1.png' /> <param name='animate_transition' value='yes' /><param name='display_static_image' value='yes' /><param name='display_spinner' value='yes' /><param name='display_overlay' value='yes' /><param name='display_count' value='yes' /><param name='filter' value='publish=yes' /></object></div>                <script type='text/javascript'>                    var divElement = document.getElementById('viz1580915477289');                    var vizElement = divElement.getElementsByTagName('object')[0];                    vizElement.style.width='100%';vizElement.style.height=(divElement.offsetWidth*0.75)+'px';                    var scriptElement = document.createElement('script');                    scriptElement.src = 'https://public.tableau.com/javascripts/api/viz_v1.js';                    vizElement.parentNode.insertBefore(scriptElement, vizElement);                </script>\")\n"
      ],
      "execution_count": 0,
      "outputs": [
        {
          "output_type": "execute_result",
          "data": {
            "text/html": [
              "<div class='tableauPlaceholder' id='viz1580915477289' style='position: relative'><noscript><a href=''><img alt=' ' src='https:&#47;&#47;public.tableau.com&#47;static&#47;images&#47;Th&#47;TheGood_15809130971820&#47;Sheet1&#47;1_rss.png' style='border: none' /></a></noscript><object class='tableauViz'  style='display:none;'><param name='host_url' value='https%3A%2F%2Fpublic.tableau.com%2F' /> <param name='embed_code_version' value='3' /> <param name='site_root' value='' /><param name='name' value='TheGood_15809130971820&#47;Sheet1' /><param name='tabs' value='no' /><param name='toolbar' value='yes' /><param name='static_image' value='https:&#47;&#47;public.tableau.com&#47;static&#47;images&#47;Th&#47;TheGood_15809130971820&#47;Sheet1&#47;1.png' /> <param name='animate_transition' value='yes' /><param name='display_static_image' value='yes' /><param name='display_spinner' value='yes' /><param name='display_overlay' value='yes' /><param name='display_count' value='yes' /><param name='filter' value='publish=yes' /></object></div>                <script type='text/javascript'>                    var divElement = document.getElementById('viz1580915477289');                    var vizElement = divElement.getElementsByTagName('object')[0];                    vizElement.style.width='100%';vizElement.style.height=(divElement.offsetWidth*0.75)+'px';                    var scriptElement = document.createElement('script');                    scriptElement.src = 'https://public.tableau.com/javascripts/api/viz_v1.js';                    vizElement.parentNode.insertBefore(scriptElement, vizElement);                </script>"
            ],
            "text/plain": [
              "<IPython.core.display.HTML object>"
            ]
          },
          "metadata": {
            "tags": []
          },
          "execution_count": 5
        }
      ]
    },
    {
      "cell_type": "markdown",
      "metadata": {
        "id": "vZ__tY4XINir",
        "colab_type": "text"
      },
      "source": [
        "#### The Bad"
      ]
    },
    {
      "cell_type": "markdown",
      "metadata": {
        "id": "DszQ1tGVIRQq",
        "colab_type": "text"
      },
      "source": [
        "Color is based on year. Amount of snow is shown by the size of the bubble.Our group decided that the worst way to show the information would be to use a bubble chart. Bubble charts are really difficult to interpret but this one is especially difficult because there are almost no lables provided. The way this graph is showing data is the color scale is the different years. The next variable included was the size of the bubble depends on the amount of snow. The amount of snow fall is poorly shown because the bubble are not labled so we are unable to tell the actully difference in sizes. Additionally, our goal of the graph is to see change over time but since this design is not formatted to show information over time it is almost impossible to identify trends."
      ]
    },
    {
      "cell_type": "code",
      "metadata": {
        "id": "exP8QkajF7Du",
        "colab_type": "code",
        "outputId": "f9e7669c-b818-4895-9fe5-3d4dc0c2afe3",
        "colab": {
          "base_uri": "https://localhost:8080/",
          "height": 1000
        }
      },
      "source": [
        "import IPython\n",
        "IPython.display.HTML(\"<div class='tableauPlaceholder' id='viz1580913777644' style='position: relative'><noscript><a href=''><img alt=' ' src='https:&#47;&#47;public.tableau.com&#47;static&#47;images&#47;Th&#47;TheBad_15809135424460&#47;Sheet1&#47;1_rss.png' style='border: none' /></a></noscript><object class='tableauViz'  style='display:none;'><param name='host_url' value='https%3A%2F%2Fpublic.tableau.com%2F' /> <param name='embed_code_version' value='3' /> <param name='site_root' value='' /><param name='name' value='TheBad_15809135424460&#47;Sheet1' /><param name='tabs' value='no' /><param name='toolbar' value='yes' /><param name='static_image' value='https:&#47;&#47;public.tableau.com&#47;static&#47;images&#47;Th&#47;TheBad_15809135424460&#47;Sheet1&#47;1.png' /> <param name='animate_transition' value='yes' /><param name='display_static_image' value='yes' /><param name='display_spinner' value='yes' /><param name='display_overlay' value='yes' /><param name='display_count' value='yes' /><param name='filter' value='publish=yes' /></object></div>                <script type='text/javascript'>                    var divElement = document.getElementById('viz1580913777644');                    var vizElement = divElement.getElementsByTagName('object')[0];                    vizElement.style.width='100%';vizElement.style.height=(divElement.offsetWidth*0.75)+'px';                    var scriptElement = document.createElement('script');                    scriptElement.src = 'https://public.tableau.com/javascripts/api/viz_v1.js';                    vizElement.parentNode.insertBefore(scriptElement, vizElement);                </script>\")"
      ],
      "execution_count": 0,
      "outputs": [
        {
          "output_type": "execute_result",
          "data": {
            "text/html": [
              "<div class='tableauPlaceholder' id='viz1580913777644' style='position: relative'><noscript><a href=''><img alt=' ' src='https:&#47;&#47;public.tableau.com&#47;static&#47;images&#47;Th&#47;TheBad_15809135424460&#47;Sheet1&#47;1_rss.png' style='border: none' /></a></noscript><object class='tableauViz'  style='display:none;'><param name='host_url' value='https%3A%2F%2Fpublic.tableau.com%2F' /> <param name='embed_code_version' value='3' /> <param name='site_root' value='' /><param name='name' value='TheBad_15809135424460&#47;Sheet1' /><param name='tabs' value='no' /><param name='toolbar' value='yes' /><param name='static_image' value='https:&#47;&#47;public.tableau.com&#47;static&#47;images&#47;Th&#47;TheBad_15809135424460&#47;Sheet1&#47;1.png' /> <param name='animate_transition' value='yes' /><param name='display_static_image' value='yes' /><param name='display_spinner' value='yes' /><param name='display_overlay' value='yes' /><param name='display_count' value='yes' /><param name='filter' value='publish=yes' /></object></div>                <script type='text/javascript'>                    var divElement = document.getElementById('viz1580913777644');                    var vizElement = divElement.getElementsByTagName('object')[0];                    vizElement.style.width='100%';vizElement.style.height=(divElement.offsetWidth*0.75)+'px';                    var scriptElement = document.createElement('script');                    scriptElement.src = 'https://public.tableau.com/javascripts/api/viz_v1.js';                    vizElement.parentNode.insertBefore(scriptElement, vizElement);                </script>"
            ],
            "text/plain": [
              "<IPython.core.display.HTML object>"
            ]
          },
          "metadata": {
            "tags": []
          },
          "execution_count": 3
        }
      ]
    },
    {
      "cell_type": "markdown",
      "metadata": {
        "id": "NnaYvuAIIkPV",
        "colab_type": "text"
      },
      "source": [
        "#### The Ugly"
      ]
    },
    {
      "cell_type": "markdown",
      "metadata": {
        "id": "MjmwGWTlIlOi",
        "colab_type": "text"
      },
      "source": [
        "This graph is our groups representation of the ugly graph. This graph is the exact same graph as the good option. Just like with the good option this graph is ordered in years so that way we can tell the change over time. The only thing that is different with this graph is the choice of colors. The color scale we chose ranges from hot pink to neon yellow. The graph still shows all of the data we would like but looking at the highest and lowest amounts on the graph for a prolonged time frame will most likely give you a migraine."
      ]
    },
    {
      "cell_type": "code",
      "metadata": {
        "id": "NQXOfUYSISyG",
        "colab_type": "code",
        "outputId": "31e87621-5f09-4c49-f68d-455095a1fa8f",
        "colab": {
          "base_uri": "https://localhost:8080/",
          "height": 1000
        }
      },
      "source": [
        "import IPython\n",
        "IPython.display.HTML(\"<div class='tableauPlaceholder' id='viz1580914044001' style='position: relative'><noscript><a href=''><img alt=' ' src='https:&#47;&#47;public.tableau.com&#47;static&#47;images&#47;Th&#47;TheUgly_15809140201540&#47;Sheet1&#47;1_rss.png' style='border: none' /></a></noscript><object class='tableauViz'  style='display:none;'><param name='host_url' value='https%3A%2F%2Fpublic.tableau.com%2F' /> <param name='embed_code_version' value='3' /> <param name='site_root' value='' /><param name='name' value='TheUgly_15809140201540&#47;Sheet1' /><param name='tabs' value='no' /><param name='toolbar' value='yes' /><param name='static_image' value='https:&#47;&#47;public.tableau.com&#47;static&#47;images&#47;Th&#47;TheUgly_15809140201540&#47;Sheet1&#47;1.png' /> <param name='animate_transition' value='yes' /><param name='display_static_image' value='yes' /><param name='display_spinner' value='yes' /><param name='display_overlay' value='yes' /><param name='display_count' value='yes' /><param name='filter' value='publish=yes' /></object></div>                <script type='text/javascript'>                    var divElement = document.getElementById('viz1580914044001');                    var vizElement = divElement.getElementsByTagName('object')[0];                    vizElement.style.width='100%';vizElement.style.height=(divElement.offsetWidth*0.75)+'px';                    var scriptElement = document.createElement('script');                    scriptElement.src = 'https://public.tableau.com/javascripts/api/viz_v1.js';                    vizElement.parentNode.insertBefore(scriptElement, vizElement);                </script>\")"
      ],
      "execution_count": 0,
      "outputs": [
        {
          "output_type": "execute_result",
          "data": {
            "text/html": [
              "<div class='tableauPlaceholder' id='viz1580914044001' style='position: relative'><noscript><a href=''><img alt=' ' src='https:&#47;&#47;public.tableau.com&#47;static&#47;images&#47;Th&#47;TheUgly_15809140201540&#47;Sheet1&#47;1_rss.png' style='border: none' /></a></noscript><object class='tableauViz'  style='display:none;'><param name='host_url' value='https%3A%2F%2Fpublic.tableau.com%2F' /> <param name='embed_code_version' value='3' /> <param name='site_root' value='' /><param name='name' value='TheUgly_15809140201540&#47;Sheet1' /><param name='tabs' value='no' /><param name='toolbar' value='yes' /><param name='static_image' value='https:&#47;&#47;public.tableau.com&#47;static&#47;images&#47;Th&#47;TheUgly_15809140201540&#47;Sheet1&#47;1.png' /> <param name='animate_transition' value='yes' /><param name='display_static_image' value='yes' /><param name='display_spinner' value='yes' /><param name='display_overlay' value='yes' /><param name='display_count' value='yes' /><param name='filter' value='publish=yes' /></object></div>                <script type='text/javascript'>                    var divElement = document.getElementById('viz1580914044001');                    var vizElement = divElement.getElementsByTagName('object')[0];                    vizElement.style.width='100%';vizElement.style.height=(divElement.offsetWidth*0.75)+'px';                    var scriptElement = document.createElement('script');                    scriptElement.src = 'https://public.tableau.com/javascripts/api/viz_v1.js';                    vizElement.parentNode.insertBefore(scriptElement, vizElement);                </script>"
            ],
            "text/plain": [
              "<IPython.core.display.HTML object>"
            ]
          },
          "metadata": {
            "tags": []
          },
          "execution_count": 4
        }
      ]
    },
    {
      "cell_type": "code",
      "metadata": {
        "id": "e3SKAxePKem_",
        "colab_type": "code",
        "colab": {}
      },
      "source": [
        ""
      ],
      "execution_count": 0,
      "outputs": []
    }
  ]
}