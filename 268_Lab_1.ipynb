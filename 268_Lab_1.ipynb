{
  "nbformat": 4,
  "nbformat_minor": 0,
  "metadata": {
    "colab": {
      "name": "268 Lab 1",
      "provenance": [],
      "authorship_tag": "ABX9TyNIRTQ/drjYmU+XJss+vIPt",
      "include_colab_link": true
    },
    "kernelspec": {
      "name": "python3",
      "display_name": "Python 3"
    }
  },
  "cells": [
    {
      "cell_type": "markdown",
      "metadata": {
        "id": "view-in-github",
        "colab_type": "text"
      },
      "source": [
        "<a href=\"https://colab.research.google.com/github/lps5372/SRA268-Spring2020/blob/master/268_Lab_1.ipynb\" target=\"_parent\"><img src=\"https://colab.research.google.com/assets/colab-badge.svg\" alt=\"Open In Colab\"/></a>"
      ]
    },
    {
      "cell_type": "markdown",
      "metadata": {
        "id": "i9q9iqIhjubv",
        "colab_type": "text"
      },
      "source": [
        "#Max and Min Temperature Comparison over July in 2017"
      ]
    },
    {
      "cell_type": "markdown",
      "metadata": {
        "id": "4-2X8QBUjwgM",
        "colab_type": "text"
      },
      "source": [
        "#Outline"
      ]
    },
    {
      "cell_type": "markdown",
      "metadata": {
        "id": "NvUX_StRkUb_",
        "colab_type": "text"
      },
      "source": [
        "Over the course of a single month max and min temperatures vary depending on the season we are in. I wanted to see if there were any trend with the difference in temperature over the course of July in 2017. Without seeing the data I would expect there is no significant change in average difference in temperature. Since the data we are looking at is only over a month is it very unlikely that there will be a change in temperature difference."
      ]
    },
    {
      "cell_type": "markdown",
      "metadata": {
        "id": "I-hcEM-ymVV1",
        "colab_type": "text"
      },
      "source": [
        "#Graph"
      ]
    },
    {
      "cell_type": "markdown",
      "metadata": {
        "id": "mk44FiammhPh",
        "colab_type": "text"
      },
      "source": [
        "![alt text](https://raw.githubusercontent.com/lps5372/SRA268-Spring2020/master/Images/Lab%201.PNG)"
      ]
    },
    {
      "cell_type": "markdown",
      "metadata": {
        "id": "I6m4nIP-vROX",
        "colab_type": "text"
      },
      "source": [
        "#Conclusion"
      ]
    },
    {
      "cell_type": "markdown",
      "metadata": {
        "id": "nLVY1ZDtvWhK",
        "colab_type": "text"
      },
      "source": [
        "After analizing the data there seems to be no trend in change in temperature difference. Throughout the month of July there was only one day that stuck out for being irregular. on July 7th there was only a temperature difference of 3°. Although this stuck out, there are very reasonable situations that could lead to this happening. One of those situations would be if it rained all day the temp would then be held to a lower threshold."
      ]
    }
  ]
}