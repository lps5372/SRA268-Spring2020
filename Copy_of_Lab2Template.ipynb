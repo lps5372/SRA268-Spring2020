{
  "nbformat": 4,
  "nbformat_minor": 0,
  "metadata": {
    "colab": {
      "name": "Copy of Lab2Template.ipynb",
      "provenance": [],
      "include_colab_link": true
    },
    "kernelspec": {
      "name": "python3",
      "display_name": "Python 3"
    }
  },
  "cells": [
    {
      "cell_type": "markdown",
      "metadata": {
        "id": "view-in-github",
        "colab_type": "text"
      },
      "source": [
        "<a href=\"https://colab.research.google.com/github/lps5372/SRA268-Spring2020/blob/master/Copy_of_Lab2Template.ipynb\" target=\"_parent\"><img src=\"https://colab.research.google.com/assets/colab-badge.svg\" alt=\"Open In Colab\"/></a>"
      ]
    },
    {
      "cell_type": "markdown",
      "metadata": {
        "id": "6sOc4Uyr4U-Z",
        "colab_type": "text"
      },
      "source": [
        "## Graph Types"
      ]
    },
    {
      "cell_type": "markdown",
      "metadata": {
        "id": "0zZdVLAd5CYr",
        "colab_type": "text"
      },
      "source": [
        "Creator\n",
        "* Luke Sinn"
      ]
    },
    {
      "cell_type": "markdown",
      "metadata": {
        "id": "g-r6Clq45Hn4",
        "colab_type": "text"
      },
      "source": [
        "### Deviation\n"
      ]
    },
    {
      "cell_type": "markdown",
      "metadata": {
        "id": "2gorxo6E7A0t",
        "colab_type": "text"
      },
      "source": [
        "![alt text](https://raw.githubusercontent.com/lps5372/SRA268-Spring2020/master/Deviation.PNG)"
      ]
    },
    {
      "cell_type": "markdown",
      "metadata": {
        "id": "w6bZ_NEi7E3w",
        "colab_type": "text"
      },
      "source": [
        "#### What is this telling us?"
      ]
    },
    {
      "cell_type": "markdown",
      "metadata": {
        "id": "95L-spaC7QHF",
        "colab_type": "text"
      },
      "source": [
        "For my deviation graph, I decided to take a look at the first round of 64 data from the year 2000. More specifically I wanted to know the outcomes of games and the difference in the seed they were ranked at. As we can see from this graph there were only three upsets in the round of 64 and the largest difference in seed was a five seed upset. Predicting who wins and loses these games is always difficult but if we made more and more of these gra[hs for every year we would be able to create a probability that a team with a six seed difference could be upset. These were the trends that I expected to see because rankings are usually accurate but every single year a handful of teams upset another team."
      ]
    },
    {
      "cell_type": "markdown",
      "metadata": {
        "id": "YgXyXjmz7cDP",
        "colab_type": "text"
      },
      "source": [
        "### Correlation\n"
      ]
    },
    {
      "cell_type": "markdown",
      "metadata": {
        "id": "SGx15rZq7hvt",
        "colab_type": "text"
      },
      "source": [
        "![alt text](https://raw.githubusercontent.com/lps5372/SRA268-Spring2020/master/Correlation.PNG)"
      ]
    },
    {
      "cell_type": "markdown",
      "metadata": {
        "id": "dljjONNi7jmj",
        "colab_type": "text"
      },
      "source": [
        "#### What is this telling us?"
      ]
    },
    {
      "cell_type": "markdown",
      "metadata": {
        "id": "PwZEZrFB7laG",
        "colab_type": "text"
      },
      "source": [
        "For my correlation graph, I decided to look at the relationship between losing points and winning points. I wanted to be able to answer the question if one team is scoring a lot of points will the other team score a lot of points too? As we can see in the graph there is a positive correlation answering my question. As we can see as most teams concede points they also score more. Also as we can see there are some outliers where teams are losing by 50 points and if we looked closer at that data I would guess that these teams were the first second or third team seeds who should have no problem winning."
      ]
    },
    {
      "cell_type": "markdown",
      "metadata": {
        "id": "MqUdI-uL7r2s",
        "colab_type": "text"
      },
      "source": [
        "### Ranking\n"
      ]
    },
    {
      "cell_type": "markdown",
      "metadata": {
        "id": "AvlxCOVt7x9F",
        "colab_type": "text"
      },
      "source": [
        "![alt text](https://raw.githubusercontent.com/lps5372/SRA268-Spring2020/master/Ranking.PNG)"
      ]
    },
    {
      "cell_type": "markdown",
      "metadata": {
        "id": "lCAYtfza7yTq",
        "colab_type": "text"
      },
      "source": [
        "#### What is this telling us?"
      ]
    },
    {
      "cell_type": "markdown",
      "metadata": {
        "id": "MyuciD277ygU",
        "colab_type": "text"
      },
      "source": [
        "For my ranking graph, I decided to look at how many points are scored on a given day of the week. I was wondering this because say in the future I am given the option to take two days off a week so which would I choose if i'm a huge March Maddness fan. As we can see from the graph, if I want to see the most action packed days then I would take off Thursday and Friday. Also from this graph we could assume that the more games are played on Thursday and Friday because their total points on the day are over 50% more than that of Saturday and Sunday."
      ]
    },
    {
      "cell_type": "markdown",
      "metadata": {
        "id": "dGDGl8-G7y8Y",
        "colab_type": "text"
      },
      "source": [
        "### Distribution\n"
      ]
    },
    {
      "cell_type": "markdown",
      "metadata": {
        "id": "FB0uV-jy76p9",
        "colab_type": "text"
      },
      "source": [
        "![alt text](https://raw.githubusercontent.com/lps5372/SRA268-Spring2020/master/Distribution.PNG)"
      ]
    },
    {
      "cell_type": "markdown",
      "metadata": {
        "id": "_6SOzhrQ76zH",
        "colab_type": "text"
      },
      "source": [
        "#### What is this telling us?"
      ]
    },
    {
      "cell_type": "markdown",
      "metadata": {
        "id": "HBWqsS_g767h",
        "colab_type": "text"
      },
      "source": [
        "For my ranking graph, I decided to show how many points the winning seed has scored over the total of our data. I filtered the data so it only included the round of 64 which would technically give all seeds the same opportunity to win and earn points. This graph is saying that the first seed wins the most and therefore has the most winning points on their record. Additionally, this stayed true with the higher seed having more points with one exception. Seed 6 and 7 are reverse of what we would expect in the data but this shows that it is more likely to see a winning 7th seed put up more points than a winning 6th seed."
      ]
    },
    {
      "cell_type": "markdown",
      "metadata": {
        "id": "wQsDThk677Fy",
        "colab_type": "text"
      },
      "source": [
        "### Change over Time\n"
      ]
    },
    {
      "cell_type": "markdown",
      "metadata": {
        "id": "Z1j_YLOA7_OK",
        "colab_type": "text"
      },
      "source": [
        "![alt text](https://raw.githubusercontent.com/lps5372/SRA268-Spring2020/master/Change%20Over%20Time.PNG)"
      ]
    },
    {
      "cell_type": "markdown",
      "metadata": {
        "id": "mpfsmmgi7_Vj",
        "colab_type": "text"
      },
      "source": [
        "#### What is this telling us?"
      ]
    },
    {
      "cell_type": "markdown",
      "metadata": {
        "id": "rYLXoMMO7_di",
        "colab_type": "text"
      },
      "source": [
        "For my Change Over Time graph, I decided to look at the trend of points scored over the years. I was interested in seeing if teams scored more or less over the years. For as long as I could remember my dad has told me that defense wins championships and I decided if that were true then I should see a downward trend in the data showing more teams are playing defensive in an attempt to win games. Unfortunately, it looks like there was no change over the years in total points scored so I guess I have to continue collecting evidence for my case elsewhere."
      ]
    },
    {
      "cell_type": "markdown",
      "metadata": {
        "id": "lFwiHoE-7_jZ",
        "colab_type": "text"
      },
      "source": [
        "### Magnitude\n"
      ]
    },
    {
      "cell_type": "markdown",
      "metadata": {
        "id": "ICQFnXj78EbF",
        "colab_type": "text"
      },
      "source": [
        "![alt text](https://raw.githubusercontent.com/lps5372/SRA268-Spring2020/master/Magnitude.PNG)"
      ]
    },
    {
      "cell_type": "markdown",
      "metadata": {
        "id": "QGG7XYG88Eii",
        "colab_type": "text"
      },
      "source": [
        "#### What is this telling us?"
      ]
    },
    {
      "cell_type": "markdown",
      "metadata": {
        "id": "VS7uGa0l8Eos",
        "colab_type": "text"
      },
      "source": [
        "For my Magnitude graph, I decided to look at the amount of points the winning team scored in the championship game. To do this I filtered out all of the rounds except the final 2 and then sorted it by year. I added a binned color scale to assist in comparing the data. As shown last time, this is my second attempt to prove that defense doesn't win championships. The data shows that the 3 lowest values are in the past ten years so maybe I was wrong and in fact teams are getting smarted and keeping the games to a lower amount of points that the past."
      ]
    },
    {
      "cell_type": "markdown",
      "metadata": {
        "id": "bEKFxP8R8Evk",
        "colab_type": "text"
      },
      "source": [
        "### Part-to-Whole\n"
      ]
    },
    {
      "cell_type": "markdown",
      "metadata": {
        "id": "WFHlcYKV8E35",
        "colab_type": "text"
      },
      "source": [
        "![alt text](https://raw.githubusercontent.com/lps5372/SRA268-Spring2020/master/Part-to-Whole.PNG)"
      ]
    },
    {
      "cell_type": "markdown",
      "metadata": {
        "id": "PNSd3wlp8UZH",
        "colab_type": "text"
      },
      "source": [
        "#### What is this telling us?"
      ]
    },
    {
      "cell_type": "markdown",
      "metadata": {
        "id": "y9tb_QRA8aqt",
        "colab_type": "text"
      },
      "source": [
        "This is my Part to Whole graph. I decided to show the mascot of all of the teams that have won over the year and also the amount of wins they have. I decided to display this as a tree map since there are only 15 data points. In addition, the size and color of the box represents the amount of wins each team has. As the data shows the Wildcats have the most wins followed up by Blue Devils. This type of graph is perfect for showing lower amounts of data while also having the ability to be very descriptive. If we would want to we could add data like how many points they average per championship game or how many total they have been in. In addition, we could calculate the win percentage each team has in championship games."
      ]
    }
  ]
}