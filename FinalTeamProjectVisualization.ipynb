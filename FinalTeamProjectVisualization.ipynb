{
  "nbformat": 4,
  "nbformat_minor": 0,
  "metadata": {
    "colab": {
      "name": "TeamProjectVisualization.ipynb",
      "provenance": [],
      "collapsed_sections": [],
      "include_colab_link": true
    },
    "kernelspec": {
      "name": "python3",
      "display_name": "Python 3"
    }
  },
  "cells": [
    {
      "cell_type": "markdown",
      "metadata": {
        "id": "view-in-github",
        "colab_type": "text"
      },
      "source": [
        "<a href=\"https://colab.research.google.com/github/lps5372/SRA268-Spring2020/blob/master/FinalTeamProjectVisualization.ipynb\" target=\"_parent\"><img src=\"https://colab.research.google.com/assets/colab-badge.svg\" alt=\"Open In Colab\"/></a>"
      ]
    },
    {
      "cell_type": "markdown",
      "metadata": {
        "id": "Kw5PZBtl0Ob6",
        "colab_type": "text"
      },
      "source": [
        "# Last Team Project"
      ]
    },
    {
      "cell_type": "markdown",
      "metadata": {
        "id": "iXWAmSVB0Rno",
        "colab_type": "text"
      },
      "source": [
        "Contributors:\n",
        "\n",
        "\n",
        "*   Chris Reeves\n",
        "*   Andres Nunez\n",
        "*   Owen Ache\n",
        "*   Luke Sinn\n",
        "\n",
        "\n"
      ]
    },
    {
      "cell_type": "markdown",
      "metadata": {
        "id": "WpaW-i5l0ZHn",
        "colab_type": "text"
      },
      "source": [
        "## Background"
      ]
    },
    {
      "cell_type": "markdown",
      "metadata": {
        "id": "E4VKsOvP0eev",
        "colab_type": "text"
      },
      "source": [
        "This data set has many variables and the ones that we chose to analyze were fatal accidents from 1985-1999, and 2000-2014. We have this sorted out by country with some of their perspective airlines and then filtered by GDP per country. Our goal, in short, is to prove that fatal accidents have dropped over the years, even in a short period of around 30 years. This is all to prove that technologies have bettered over time which we all know. But this data shows the dramatic decrease in fatal accidents. Due to some of the richer countries being able to fly more such as there is more air traffic in the U.S. than Liberia, we had to normalize the data so that the U.S. numbers don't skyrocket because they just fly more. We have all of the countries filtered by GDP to prove that the wealth of the country doesn't matter. Throughout rich and poor countries alike show a drop in fatal accidents has been a global phenomenon. How we measured the distance traveled before a fatal accident is through per 100-million seat km. To give an explanation of this it is saying that if a plane containing 100 seats fly 10,000 km then the variable's value would increase by 1,000,000. This was measured like this due to the numbers being too small to see the change in fatal accidents when measuring it in terms of one seat km per plane. To giver perspective to this in the U.S. alone, there are 44,000 flights per day and they go 29,000,000 km when in terms of just the planes flying. If we thought about in terms of each passenger or seat km this number would increase for each passenger. When assuming that the average number of people on a plane at one time is 100, 29,000,000 turns into 2,900,000,000."
      ]
    },
    {
      "cell_type": "markdown",
      "metadata": {
        "id": "7d8vfcGufV0_",
        "colab_type": "text"
      },
      "source": [
        " **Goal**"
      ]
    },
    {
      "cell_type": "markdown",
      "metadata": {
        "id": "e1jKSGTjfY2H",
        "colab_type": "text"
      },
      "source": [
        "We are trying to show that fatal accidents have dropped from 1985-1999 to 2000-2014 when measuring it in terms of per 100-million seat km. Also proving that the countries wealth doesn't influence increasing airline saftey."
      ]
    },
    {
      "cell_type": "markdown",
      "metadata": {
        "id": "GOxy_TvCfi54",
        "colab_type": "text"
      },
      "source": [
        "### Assumptions"
      ]
    },
    {
      "cell_type": "markdown",
      "metadata": {
        "id": "cw1v_1MMfnAR",
        "colab_type": "text"
      },
      "source": [
        "Insert 10 assumptions for your data model:\n",
        "*   We assume that technology has influenced the safety in airlines overtime.\n",
        "*   We assume there will be a very noticeable change on average over this short time.\n",
        "*   We assume that the change will be positive meaning there are less accidents.\n",
        "*   We assume that GDP will have no effect on the change shown.\n",
        "*   We assume that the 150 or so countaries not shown in this data have seen similar changes.\n",
        "*   We assume that the airline's home country recieves blame no matter where the plane flys out from.\n",
        "*   We assume that countries that fly more are at the same risk as countries that fly less. vice versa.\n",
        "*   We assume that location around the world has no effect on airline safety.\n",
        "*   We assume that geographical size of the country has no effect on airline safelty.\n",
        "*   We assume that the passengers have no effect on the accident. Meaning that there would have been an accident even if the plane was empty.\n",
        "\n"
      ]
    },
    {
      "cell_type": "markdown",
      "metadata": {
        "id": "jKGILpu7gWr6",
        "colab_type": "text"
      },
      "source": [
        "### Data Sources"
      ]
    },
    {
      "cell_type": "markdown",
      "metadata": {
        "id": "uwCao7AtgbNn",
        "colab_type": "text"
      },
      "source": [
        "The first source contains all of the airline data we used for this project. The second website contained the GDP for each country we had data from. In the beginning, we had a large amount of data based on the airlines themselves and their incident, fatal accident, and fatalities numbers. We decided to manipulate the data in Excel to add what Country every airline was based in. After doing that we combined that data into a single entity for each country. This means that all airlines based in a single country will have their data within one row. After getting all of this data we manually inputted the data from the second source which was the website. We went through to each country and pulled the GDP in the year 1999 because it is the middle point between our variables. We did more data manipulation in an attempt to make the data fair. Since it's not fair to compare a country that flies ten times more than another country we had to normalize the data. The way we choose to do this is by taking a data point provided in the first source, which was the amount of km each seat fly and use this to normalize the data. What we did is take all of the data points, like the incident numbers and all others, and we divided by the seat km variable. After doing this for all the data it was normalized but very small so what we decided to do is multiply the data by 100 million. We choose this number because the data makes more sense now. Additionally, we didn't want to choose a number over 250 million because that was the minimum a country flew and if we went over that we would extrapolate the data in an unfair way.\n"
      ]
    },
    {
      "cell_type": "markdown",
      "metadata": {
        "id": "kDgSdoQUgg2Z",
        "colab_type": "text"
      },
      "source": [
        "#### Sources"
      ]
    },
    {
      "cell_type": "markdown",
      "metadata": {
        "id": "dFzYIi0Agi2_",
        "colab_type": "text"
      },
      "source": [
        "Airline data from dmil - https://github.com/fivethirtyeight/data/tree/master/               \n",
        "GDP data from worldometers - https://www.worldometers.info/gdp/gdp-by-country/               \n"
      ]
    },
    {
      "cell_type": "markdown",
      "metadata": {
        "id": "qcFak2v7g3jt",
        "colab_type": "text"
      },
      "source": [
        "## Dashboard (5)"
      ]
    },
    {
      "cell_type": "code",
      "metadata": {
        "id": "knG79vNP0Q0u",
        "colab_type": "code",
        "outputId": "0d38f518-475f-4d77-caa6-efdd0fc1d679",
        "colab": {
          "base_uri": "https://localhost:8080/",
          "height": 985
        }
      },
      "source": [
        "import IPython\n",
        "IPython.display.HTML(\"x\")\n",
        "IPython.display.HTML(\"<div class='tableauPlaceholder' id='viz1588014469409' style='position: relative'><noscript><a href='#'><img alt=' ' src='https:&#47;&#47;public.tableau.com&#47;static&#47;images&#47;Tr&#47;Try2GDPFatalAccidents&#47;Sheet2&#47;1_rss.png' style='border: none' /></a></noscript><object class='tableauViz'  style='display:none;'><param name='host_url' value='https%3A%2F%2Fpublic.tableau.com%2F' /> <param name='embed_code_version' value='3' /> <param name='site_root' value='' /><param name='name' value='Try2GDPFatalAccidents&#47;Sheet2' /><param name='tabs' value='no' /><param name='toolbar' value='yes' /><param name='static_image' value='https:&#47;&#47;public.tableau.com&#47;static&#47;images&#47;Tr&#47;Try2GDPFatalAccidents&#47;Sheet2&#47;1.png' /> <param name='animate_transition' value='yes' /><param name='display_static_image' value='yes' /><param name='display_spinner' value='yes' /><param name='display_overlay' value='yes' /><param name='display_count' value='yes' /><param name='filter' value='publish=yes' /></object></div>                <script type='text/javascript'>                    var divElement = document.getElementById('viz1588014469409');                    var vizElement = divElement.getElementsByTagName('object')[0];                    vizElement.style.width='100%';vizElement.style.height=(divElement.offsetWidth*0.75)+'px';                    var scriptElement = document.createElement('script');                    scriptElement.src = 'https://public.tableau.com/javascripts/api/viz_v1.js';                    vizElement.parentNode.insertBefore(scriptElement, vizElement);                </script>\") # can't find image "
      ],
      "execution_count": 0,
      "outputs": [
        {
          "output_type": "execute_result",
          "data": {
            "text/html": [
              "<div class='tableauPlaceholder' id='viz1588014469409' style='position: relative'><noscript><a href='#'><img alt=' ' src='https:&#47;&#47;public.tableau.com&#47;static&#47;images&#47;Tr&#47;Try2GDPFatalAccidents&#47;Sheet2&#47;1_rss.png' style='border: none' /></a></noscript><object class='tableauViz'  style='display:none;'><param name='host_url' value='https%3A%2F%2Fpublic.tableau.com%2F' /> <param name='embed_code_version' value='3' /> <param name='site_root' value='' /><param name='name' value='Try2GDPFatalAccidents&#47;Sheet2' /><param name='tabs' value='no' /><param name='toolbar' value='yes' /><param name='static_image' value='https:&#47;&#47;public.tableau.com&#47;static&#47;images&#47;Tr&#47;Try2GDPFatalAccidents&#47;Sheet2&#47;1.png' /> <param name='animate_transition' value='yes' /><param name='display_static_image' value='yes' /><param name='display_spinner' value='yes' /><param name='display_overlay' value='yes' /><param name='display_count' value='yes' /><param name='filter' value='publish=yes' /></object></div>                <script type='text/javascript'>                    var divElement = document.getElementById('viz1588014469409');                    var vizElement = divElement.getElementsByTagName('object')[0];                    vizElement.style.width='100%';vizElement.style.height=(divElement.offsetWidth*0.75)+'px';                    var scriptElement = document.createElement('script');                    scriptElement.src = 'https://public.tableau.com/javascripts/api/viz_v1.js';                    vizElement.parentNode.insertBefore(scriptElement, vizElement);                </script>"
            ],
            "text/plain": [
              "<IPython.core.display.HTML object>"
            ]
          },
          "metadata": {
            "tags": []
          },
          "execution_count": 1
        }
      ]
    },
    {
      "cell_type": "code",
      "metadata": {
        "id": "m4AtUNdxEY7q",
        "colab_type": "code",
        "outputId": "8b3bed7d-2ff4-4ba5-e4e1-a1bcf5b59f1c",
        "colab": {
          "base_uri": "https://localhost:8080/",
          "height": 1000
        }
      },
      "source": [
        "import IPython\n",
        "IPython.display.HTML(\"x\")\n",
        "IPython.display.HTML(\"<div class='tableauPlaceholder' id='viz1587998049063' style='position: relative'><noscript><a href='#'><img alt=' ' src='https:&#47;&#47;public.tableau.com&#47;static&#47;images&#47;SR&#47;SRA268GDPFatalAccidents&#47;Sheet1&#47;1_rss.png' style='border: none' /></a></noscript><object class='tableauViz'  style='display:none;'><param name='host_url' value='https%3A%2F%2Fpublic.tableau.com%2F' /> <param name='embed_code_version' value='3' /> <param name='site_root' value='' /><param name='name' value='SRA268GDPFatalAccidents&#47;Sheet1' /><param name='tabs' value='no' /><param name='toolbar' value='yes' /><param name='static_image' value='https:&#47;&#47;public.tableau.com&#47;static&#47;images&#47;SR&#47;SRA268GDPFatalAccidents&#47;Sheet1&#47;1.png' /> <param name='animate_transition' value='yes' /><param name='display_static_image' value='yes' /><param name='display_spinner' value='yes' /><param name='display_overlay' value='yes' /><param name='display_count' value='yes' /><param name='filter' value='publish=yes' /></object></div>                <script type='text/javascript'>                    var divElement = document.getElementById('viz1587998049063');                    var vizElement = divElement.getElementsByTagName('object')[0];                    vizElement.style.width='100%';vizElement.style.height=(divElement.offsetWidth*0.75)+'px';                    var scriptElement = document.createElement('script');                    scriptElement.src = 'https://public.tableau.com/javascripts/api/viz_v1.js';                    vizElement.parentNode.insertBefore(scriptElement, vizElement);                </script>\") # can't find image \n"
      ],
      "execution_count": 0,
      "outputs": [
        {
          "output_type": "execute_result",
          "data": {
            "text/html": [
              "<div class='tableauPlaceholder' id='viz1587998049063' style='position: relative'><noscript><a href='#'><img alt=' ' src='https:&#47;&#47;public.tableau.com&#47;static&#47;images&#47;SR&#47;SRA268GDPFatalAccidents&#47;Sheet1&#47;1_rss.png' style='border: none' /></a></noscript><object class='tableauViz'  style='display:none;'><param name='host_url' value='https%3A%2F%2Fpublic.tableau.com%2F' /> <param name='embed_code_version' value='3' /> <param name='site_root' value='' /><param name='name' value='SRA268GDPFatalAccidents&#47;Sheet1' /><param name='tabs' value='no' /><param name='toolbar' value='yes' /><param name='static_image' value='https:&#47;&#47;public.tableau.com&#47;static&#47;images&#47;SR&#47;SRA268GDPFatalAccidents&#47;Sheet1&#47;1.png' /> <param name='animate_transition' value='yes' /><param name='display_static_image' value='yes' /><param name='display_spinner' value='yes' /><param name='display_overlay' value='yes' /><param name='display_count' value='yes' /><param name='filter' value='publish=yes' /></object></div>                <script type='text/javascript'>                    var divElement = document.getElementById('viz1587998049063');                    var vizElement = divElement.getElementsByTagName('object')[0];                    vizElement.style.width='100%';vizElement.style.height=(divElement.offsetWidth*0.75)+'px';                    var scriptElement = document.createElement('script');                    scriptElement.src = 'https://public.tableau.com/javascripts/api/viz_v1.js';                    vizElement.parentNode.insertBefore(scriptElement, vizElement);                </script>"
            ],
            "text/plain": [
              "<IPython.core.display.HTML object>"
            ]
          },
          "metadata": {
            "tags": []
          },
          "execution_count": 1
        }
      ]
    },
    {
      "cell_type": "markdown",
      "metadata": {
        "id": "SvWfnlDjnos1",
        "colab_type": "text"
      },
      "source": [
        "## Conclusion"
      ]
    },
    {
      "cell_type": "markdown",
      "metadata": {
        "id": "rfWefr2gnxOG",
        "colab_type": "text"
      },
      "source": [
        "Overall, even though there is a slight difference between fatal accidents between wealthier and poorer countries, your safety is not at greater risk from choosing a commercial airliner from a poorer country than a richer one. Commercial airlines are subject to some of the most extreme safety tests and precautions that are known to man, for obvious reasons. Sure, countries with higher GDPs can afford to buy more safety in the form of higher prices and more expensive regulations, but every airline is held to the same standard across the world. Even, for example, Malaysia Airlines, which has been subject to great media scrutiny for their most recent prominent crash -- you are at the same risk of being involved in a fatal accident with Malaysia Airlines as with Southwest Airlines -- which is extremely low. The fear of crashing during a commercial airline flight is all media driven. When it happens, it puts all the airlines on notice to become even safer. And the numbers speak for themselves, no matter what the Countries GDP is, the odds of being involved in a fatal crash are extremely low. Commercial airlines is an extraordinarily safe means of transit overall. Commercial airlines is an extraordinarily safe means of transit compared to all other forms of travel. When analyzing the data of Fatal Airplane Accidents from 1985-1999 compared to Fatal Airplane Accidents from 2000-2014 the large majority of the countries shown on the graphs display a noticeable decrease in the number of fatalities per 100-million seat km. For the lower GPA countries, two of the most significant drops in fatalities were in Colombia and Egypt. According to the data Colombia went from .8138 to .00 fatalities per every per 100-million seat km, while Egypt went from .5056 to .1793 fatalities per 100-million seat km. In the higher GDP garph, only two countries did not see a decrease in fatalities which were Brazil and the United States. When looking at potential outliers in the data, meaning countries that experienced a massive increase in airplane fatalities, the one that stands out the most is Kenya followed by Bahrain and Malaysia. Kenya went from .00 fatalities per 100-million seat km to .7209 fatalities per 100-million seat km. Similarly, Bahrain had .00 fatalities per 100-million seat km in 1885 and jumped to .3318 fatalities per 100-million seat km. Both these cases, the countries might not have been collecting data on the number of fatalities until recently or other factors may be altering the data such as acts of war and terrorism. In the case of Malaysia, there has been a slight increase in deaths per100-million seat km going from .096 at the end of 1999 to .1925 in 2000-2014. This result could be from the incidences with Malaysia Airlines Flight 370 disappearing over the Southern Indian Ocean and Flight 17 being shot down by a surface-to-air missile during 2014.\n",
        "\n",
        "As a whole, the data strongly supports our claims that fatal accidents have dropped from 1985-1999 to 2000-2014 when measuring it in terms of per 100-million seat km. As airlane technology and safety have adapted and substantially over a span from 1985 to 2014. This has benefited both passengers and companies in making sure that airline safety is a crucial priority and should not be taken lightly. "
      ]
    },
    {
      "cell_type": "code",
      "metadata": {
        "id": "GiYDwrUYn0k0",
        "colab_type": "code",
        "colab": {}
      },
      "source": [
        "\n"
      ],
      "execution_count": 0,
      "outputs": []
    }
  ]
}